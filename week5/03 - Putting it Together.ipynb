{
 "cells": [
  {
   "cell_type": "markdown",
   "metadata": {},
   "source": [
    "### Training a neural network\n",
    "\n",
    "n of input units: Dimension of features $x^{(i)}$   \n",
    "n of output units: Number of classes   \n",
    "Reasonable default: 1 hidden layer of if >1 hidden layer, have some n of hidden units in every layer(usually teh more the better)\n",
    "\n",
    "#### Steps\n",
    "\n",
    "1. Randomly initialize weigths\n",
    "2. Implement foward propagation fo get $h_\\Theta(x^{(i)})$ for any $x^{(i)}$\n",
    "3. Implemento code to compute cost function $J(\\Theta)$\n",
    "4. Implement backprop to compute partial derivates $\\frac{\\partial }{\\partial \\theta_{jk}^{(l)}}J(\\Theta)$\n",
    "&nbsp;&nbsp;&nbsp;&nbsp; for i = 1:m      \n",
    "&nbsp;&nbsp;&nbsp;&nbsp;&nbsp;&nbsp;&nbsp;&nbsp; Perform foward propagation and backpropagation using example $(x^{(i)},  y^{(i)})$    \n",
    "&nbsp;&nbsp;&nbsp;&nbsp;&nbsp;&nbsp;&nbsp;&nbsp; (Get activations $a^{(l)}$ and delta terms $\\delta^{(l)}$  for $ l = 2, \\dots, L$.)\n",
    "5. Use gradient checking to compare $\\frac{\\partial }{\\partial \\theta_{jk}^{(l)}}J(\\Theta)$ computed using backpropagation vs, using numerical estimate of gradient of $J(\\Theta)$\n",
    "6. Use gradient descen or advanced optimization method with backpropagation to try to minimize $J(\\Theta)$ as a function of parameters $\\Theta$ \n",
    "\n",
    "Ideally, you want $h_\\Theta(x^{(i)})\\approx y^{(i)}$. This will minimize our cost function. However, keep in mind that $J(\\Theta)$ is not convex and thus we can end up in a local minimum instead. "
   ]
  }
 ],
 "metadata": {
  "kernelspec": {
   "display_name": "Python 3",
   "language": "python",
   "name": "python3"
  },
  "language_info": {
   "codemirror_mode": {
    "name": "ipython",
    "version": 3
   },
   "file_extension": ".py",
   "mimetype": "text/x-python",
   "name": "python",
   "nbconvert_exporter": "python",
   "pygments_lexer": "ipython3",
   "version": "3.6.5"
  }
 },
 "nbformat": 4,
 "nbformat_minor": 2
}
