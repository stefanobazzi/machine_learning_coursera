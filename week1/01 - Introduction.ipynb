{
 "cells": [
  {
   "cell_type": "markdown",
   "metadata": {},
   "source": [
    "#### Machine learning definitions:\n",
    "- Field of study that gives computers the ability to learn without being explicitly programmed. \n",
    "- A computer program is said to learn from experience E with respect to some task T and some performance measure P, if its performance on T, as measured by P, improves with experience E.\n",
    "\n",
    "#### Main machine learning fields:\n",
    "Major categories:\n",
    "- Supervised Learning\n",
    "- Unsupervised Learning\n",
    "\n",
    "Other: Reinforcement Learning, Recommender Systems\n",
    "\n",
    "\n",
    "#### Supervised Learning:\n",
    "- Classification: predict class (ex: iris dataset, Given a patient with a \n",
    "  tumor, we have to predict whether the tumor is malignant or benign.)  \n",
    "- Regression: predict continous value (ex: house price dataset, Given a \n",
    "  picture of a person, we have to predict their age on the basis of the \n",
    "  given picture)\n",
    "\n",
    "\n",
    "#### Unsupervised Learning:\n",
    "Unsupervised learning allows us to approach problems with little or no idea \n",
    "what our results should look like. We can derive structure from data where \n",
    "we don't necessarily know the effect of the variables.\n",
    "\n",
    "We can derive this structure by clustering the data based on relationships \n",
    "among the variables in the data.\n",
    "\n",
    "With unsupervised learning there is no feedback based on the prediction results.\n",
    "\n",
    "Example:\n",
    "\n",
    "Clustering: Take a collection of 1,000,000 different genes, and find a way \n",
    "to automatically group these genes into groups that are somehow similar or\n",
    "related by different variables, such as lifespan, location, roles, and so on.\n",
    "\n",
    "Non-clustering: The \"Cocktail Party Algorithm\", allows you to find structure\n",
    "in a chaotic environment. (i.e. identifying individual voices and music from\n",
    "a mesh of sounds at a cocktail party)."
   ]
  }
 ],
 "metadata": {
  "kernelspec": {
   "display_name": "Python 3",
   "language": "python",
   "name": "python3"
  },
  "language_info": {
   "codemirror_mode": {
    "name": "ipython",
    "version": 3
   },
   "file_extension": ".py",
   "mimetype": "text/x-python",
   "name": "python",
   "nbconvert_exporter": "python",
   "pygments_lexer": "ipython3",
   "version": "3.6.5"
  }
 },
 "nbformat": 4,
 "nbformat_minor": 2
}
