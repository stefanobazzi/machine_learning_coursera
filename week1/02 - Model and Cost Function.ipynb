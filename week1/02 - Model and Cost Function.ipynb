{
 "cells": [
  {
   "cell_type": "code",
   "execution_count": 3,
   "metadata": {},
   "outputs": [],
   "source": [
    "%matplotlib inline\n",
    "\n",
    "import matplotlib.pyplot as plt\n",
    "import numpy as np"
   ]
  },
  {
   "cell_type": "markdown",
   "metadata": {},
   "source": [
    "### Training set:"
   ]
  },
  {
   "cell_type": "markdown",
   "metadata": {},
   "source": [
    "\n",
    "$m$ number of training examples         \n",
    "$x$ input variable or features          \n",
    "$y$ output variable of target           \n",
    "$ (x^{(i)}, y^{(i)}) $  training example   $ i = 1...m $\n",
    "\n"
   ]
  },
  {
   "cell_type": "markdown",
   "metadata": {},
   "source": [
    "### Model Representation"
   ]
  },
  {
   "cell_type": "code",
   "execution_count": 4,
   "metadata": {},
   "outputs": [],
   "source": [
    "#TODO flowchart"
   ]
  },
  {
   "cell_type": "markdown",
   "metadata": {},
   "source": [
    "### Hypothesis"
   ]
  },
  {
   "cell_type": "markdown",
   "metadata": {},
   "source": [
    "$h$ = hypothesis = Learning Algorithm function\n",
    "\n",
    "example: $ h_\\theta(x) = \\theta_0 + \\theta_1x $   \n",
    "\n",
    "How to choose $\\theta_i$?    \n",
    "\n",
    "Choose $\\theta_0$ and $\\theta_1$ so that $h_\\theta(x)$ is close to $y$ fo our training examples"
   ]
  },
  {
   "cell_type": "markdown",
   "metadata": {},
   "source": [
    "### Cost Function"
   ]
  },
  {
   "cell_type": "markdown",
   "metadata": {},
   "source": [
    "\"Squared error function\" (or \"Mean squared error\")  \n",
    "\n",
    "$ J(\\theta_0, \\theta_1) = \\frac{1}{2m}\\sum_{i=0}^{m}(\\hat{y_i} - y_i)^2 = \n",
    "\\frac{1}{2m}\\sum_{i=0}^{m}(h_\\theta(x_i) - y_i)^2 $"
   ]
  },
  {
   "cell_type": "markdown",
   "metadata": {},
   "source": [
    "#### Simplified Cost function\n",
    "\n",
    "$ h_\\theta(x) = \\theta_0 + \\theta_1x $ and $ \\theta_0 = 0 $ \n",
    "\n",
    "$ (x^{(i)}, y^{(i)}) $ 3 training points $ (1,1), (2, 2), (3, 3) $  \n",
    "\n",
    "$ J(\\theta_0, \\theta_1) = \\frac{1}{2m}\\sum_{i=0}^{m}(h_\\theta(x_i) - y_i)^2 =   \n",
    "\\frac{1}{2m}\\sum_{i=0}^{m}(\\theta_1(x^{(i)}) - y^{(i)})^2 $\n",
    "\n",
    "choose $\\theta_1 = 1$ \n",
    "\n",
    "$  J(\\theta_1) = J(1)= \\frac{1}{2*3}\\sum_{i=0}^{3}(0^2 + 0^2 + 0^2) = 0 $ (best solution error is zero)"
   ]
  },
  {
   "cell_type": "code",
   "execution_count": 5,
   "metadata": {},
   "outputs": [
    {
     "name": "stdout",
     "output_type": "stream",
     "text": [
      "theta_1 = 1 , J = 0.0\n",
      "theta_1 = 0.95 , J = 0.005833333333333354\n",
      "theta_1 = 0.5 , J = 0.5833333333333333\n",
      "theta_1 = 0 , J = 2.333333333333333\n"
     ]
    },
    {
     "data": {
      "text/plain": [
       "<matplotlib.legend.Legend at 0x7f4b766e1a90>"
      ]
     },
     "execution_count": 5,
     "metadata": {},
     "output_type": "execute_result"
    },
    {
     "data": {
      "image/png": "[encoded data removed]",
      "text/plain": [
       "<Figure size 432x288 with 1 Axes>"
      ]
     },
     "metadata": {},
     "output_type": "display_data"
    }
   ],
   "source": [
    "points = np.array([[1, 1], [2, 2], [3, 3]]) \n",
    "\n",
    "def J(t1):\n",
    "    m = len(points)\n",
    "    return ( 1 / (2*m) ) * sum([(t1*x - y)**2 for (x, y) in points])\n",
    "\n",
    "for theta_1 in [1, 0.95, 0.5, 0]:\n",
    "    print('theta_1 =', theta_1, ', J =', J(theta_1))  \n",
    "\n",
    "# TODO remove duplicate items in legend\n",
    "plt.plot(points, 'bx', label='points')\n",
    "for theta_1, color in [(0, 'orange'),  (0.5, 'y'), (0.95, 'greenyellow'), (1, 'g')]:\n",
    "    h_theta = [(theta_1*x, y) for x, y in points]\n",
    "    plt.plot(h_theta, color, label='J({})'.format(theta_1))\n",
    "plt.legend()\n"
   ]
  }
 ],
 "metadata": {
  "kernelspec": {
   "display_name": "Python 3",
   "language": "python",
   "name": "python3"
  },
  "language_info": {
   "codemirror_mode": {
    "name": "ipython",
    "version": 3
   },
   "file_extension": ".py",
   "mimetype": "text/x-python",
   "name": "python",
   "nbconvert_exporter": "python",
   "pygments_lexer": "ipython3",
   "version": "3.6.5"
  }
 },
 "nbformat": 4,
 "nbformat_minor": 2
}
