{
 "cells": [
  {
   "cell_type": "markdown",
   "metadata": {},
   "source": [
    "### Matrix and Vectors"
   ]
  },
  {
   "cell_type": "markdown",
   "metadata": {},
   "source": [
    "#### Matrix\n",
    "Rectacular array of number    \n",
    "Dimension of matrix: number of row x number of columns\n",
    "\n",
    "$A_{ij} =$  \"$i, j$ entry\" of the $i^{th}$ row, $j^{th}$ column\n",
    "\n",
    "$\\begin{bmatrix}\n",
    "A_{11} & A_{12} & A_{13} \\\\ A_{21} & A_{22} & A_{23} \\\\ A_{31} & A_{32} & A_{33}\n",
    "\\end{bmatrix}$"
   ]
  },
  {
   "cell_type": "markdown",
   "metadata": {},
   "source": [
    "#### Vector\n",
    "n x 1 matrix      \n",
    "$y_i = i^{th}$ element\n",
    "\n",
    "$\\begin{bmatrix}y_1 \\\\ y_2 \\\\ y_3 \\\\ y_4\\end{bmatrix}$    1-indexed vector  $\\begin{bmatrix}y_0 \\\\ y_1 \\\\ y_2 \\\\ y_3\\end{bmatrix}$    0-indexed vector"
   ]
  },
  {
   "cell_type": "markdown",
   "metadata": {},
   "source": [
    "### Addition and Scalar Multiplication"
   ]
  },
  {
   "cell_type": "markdown",
   "metadata": {},
   "source": [
    "#### Matrix Addition\n",
    "$\\begin{bmatrix}\n",
    "A_{11} & A_{12} \\\\ A_{21} & A_{22} \\\\ A_{31} & A_{32}\n",
    "\\end{bmatrix}$ +\n",
    "$\\begin{bmatrix}\n",
    "B_{11} & B_{12} \\\\ B_{21} & B_{22} \\\\ B_{31} & B_{32}\n",
    "\\end{bmatrix}$ =\n",
    "$\\begin{bmatrix}\n",
    "A_{11} + B_{11} & A_{12} + B_{12} \\\\ A_{21} + B_{21} & A_{22} +  B_{22} \\\\ A_{31} + B_{31} & A_{32} + B_{32}\n",
    "\\end{bmatrix}$\n",
    "\n",
    "$\\begin{bmatrix}\n",
    "A_{11} & A_{12} \\\\ A_{21} & A_{22} \\\\ A_{31} & A_{32}\n",
    "\\end{bmatrix}$ -\n",
    "$\\begin{bmatrix}\n",
    "B_{11} & B_{12} \\\\ B_{21} & B_{22} \\\\ B_{31} & B_{32}\n",
    "\\end{bmatrix}$ =\n",
    "$\\begin{bmatrix}\n",
    "A_{11} - B_{11} & A_{12} - B_{12} \\\\ A_{21} - B_{21} & A_{22} -  B_{22} \\\\ A_{31} - B_{31} & A_{32} - B_{32}\n",
    "\\end{bmatrix}$\n",
    "\n",
    "\n",
    "#### Scalar Multiplication\n",
    "\n",
    "$ a * \\begin{bmatrix}\n",
    "A_{11} & A_{12} \\\\ A_{21} & A_{22} \\\\ A_{31} & A_{32}\n",
    "\\end{bmatrix}$ = \n",
    "$\\begin{bmatrix}\n",
    "a * A_{11} & a * A_{12} \\\\ a * A_{21} & a * A_{22} \\\\ a * A_{31} & a * A_{32}\n",
    "\\end{bmatrix}$\n",
    "\n",
    "$ \\begin{bmatrix}\n",
    "A_{11} & A_{12} \\\\ A_{21} & A_{22} \\\\ A_{31} & A_{32}\n",
    "\\end{bmatrix} / a$ = \n",
    "$\\begin{bmatrix}\n",
    "A_{11} / a & A_{12} / a \\\\ A_{21} / a & A_{22} / a \\\\ A_{31} / a & A_{32} / a\n",
    "\\end{bmatrix}$"
   ]
  },
  {
   "cell_type": "code",
   "execution_count": 34,
   "metadata": {},
   "outputs": [
    {
     "name": "stdout",
     "output_type": "stream",
     "text": [
      "[[101 202]\n",
      " [303 404]]\n",
      "[[10 20]\n",
      " [30 40]]\n",
      "[[11 12]\n",
      " [13 14]]\n",
      "[[0.1 0.2]\n",
      " [0.3 0.4]]\n"
     ]
    }
   ],
   "source": [
    "A = np.array([[1, 2], [3, 4]])\n",
    "B = np.array([[100, 200], [300, 400]])\n",
    "print(A + B)\n",
    "print(10 * A)\n",
    "print(10 + A)\n",
    "print(A / 10)\n"
   ]
  },
  {
   "cell_type": "markdown",
   "metadata": {},
   "source": [
    "### Matrix Vector Multiplication"
   ]
  },
  {
   "cell_type": "markdown",
   "metadata": {},
   "source": [
    "$\n",
    "\\begin{bmatrix}\n",
    "A_{11} & A_{12} \\\\ A_{21} & A_{22} \\\\ A_{31} & A_{32}\n",
    "\\end{bmatrix} * \n",
    "\\begin{bmatrix}\n",
    "x_{1} \\\\ x_{2}\n",
    "\\end{bmatrix} =\n",
    "\\begin{bmatrix}\n",
    "A_{11} * x_{1}  + A_{12} * x_{2} \\\\ A_{21} * x_{1} + A_{22} * x_{2} \\\\ A_{31} * x_{1} + A_{32} * x_{2}\n",
    "\\end{bmatrix}\n",
    "$\n",
    "\n",
    "3 x 2 matrix $*$ 2 x 1 vector = 3 x 1    \n",
    "m x n  $*$  n x p = m x p"
   ]
  },
  {
   "cell_type": "markdown",
   "metadata": {},
   "source": [
    "#### Example\n",
    "Houses sizes:\n",
    "$x = \\begin{bmatrix}2014 \\\\ 1416 \\\\ 1534 \\\\ 852 \\end{bmatrix}$   $ h_\\theta(x) = -40 + 0.25x $\n",
    "\n",
    "\n",
    "\n",
    "$\n",
    "\\begin{bmatrix}\n",
    "1 & 2014 \\\\ 1 & 1416 \\\\ 1 & 1534 \\\\ 1 & 852\n",
    "\\end{bmatrix} * \n",
    "\\begin{bmatrix}\n",
    "-40 \\\\ 0.25\n",
    "\\end{bmatrix} =\n",
    "\\begin{bmatrix}\n",
    "-40 * 1  + 0.25 * 2014 \\\\ -40 * 1  + 0.25 * 1416 \\\\ -40 * 1  + 0.25 * * 1532 \\\\ -40 * 1  + 0.25 * * 852\n",
    "\\end{bmatrix}\n",
    "$"
   ]
  },
  {
   "cell_type": "code",
   "execution_count": 26,
   "metadata": {},
   "outputs": [
    {
     "data": {
      "text/plain": [
       "array([486. , 314. , 343.5, 173. ])"
      ]
     },
     "execution_count": 26,
     "metadata": {},
     "output_type": "execute_result"
    }
   ],
   "source": [
    "import numpy as np\n",
    "\n",
    "x = np.array([[1, 2104], [1, 1416], [1, 1534], [1, 852]])\n",
    "h = np.array([-40, 0.25])\n",
    "np.dot(x, h)"
   ]
  },
  {
   "cell_type": "markdown",
   "metadata": {},
   "source": [
    "### Matrix Matrix Multiplication"
   ]
  },
  {
   "cell_type": "markdown",
   "metadata": {},
   "source": [
    "$\\begin{bmatrix}\n",
    "A_{11} & A_{12} & A_{13} \\\\ A_{21} & A_{22} & A_{23} \n",
    "\\end{bmatrix} * \\begin{bmatrix}\n",
    "B_{11} & B_{12} \\\\ B_{21} & B_{22} \\\\ B_{31} & B_{32}\n",
    "\\end{bmatrix} =\n",
    "\\begin{bmatrix}\n",
    "A_{11} * B_{11}  + A_{12} * B_{21} + A_{13} * B_{31} & A_{11} * B_{12}  + A_{12} * B_{22} + A_{13} * B_{32} \\\\\n",
    "A_{21} * B_{11}  + A_{22} * B_{21} + A_{23} * B_{31} & A_{21} * B_{12}  + A_{22} * B_{22} + A_{23} * B_{32}\n",
    "\\end{bmatrix}\n",
    "$"
   ]
  },
  {
   "cell_type": "code",
   "execution_count": 27,
   "metadata": {},
   "outputs": [
    {
     "name": "stdout",
     "output_type": "stream",
     "text": [
      "[486.  314.  343.5 173. ]\n",
      "[  10.4  -58.4  -46.6 -114.8]\n",
      "[691.6 416.4 463.6 190.8]\n"
     ]
    },
    {
     "data": {
      "text/plain": [
       "array([[ 486. ,   10.4,  691.6],\n",
       "       [ 314. ,  -58.4,  416.4],\n",
       "       [ 343.5,  -46.6,  463.6],\n",
       "       [ 173. , -114.8,  190.8]])"
      ]
     },
     "execution_count": 27,
     "metadata": {},
     "output_type": "execute_result"
    }
   ],
   "source": [
    "houses_sizes = np.array([2104, 1416, 1534, 852])\n",
    "\n",
    "h1 = lambda x: -40 + 0.25 * x\n",
    "h2 = lambda x: -200 + 0.1 * x\n",
    "h3 = lambda x: -150 + 0.4 * x\n",
    "\n",
    "print(h1(houses_sizes))\n",
    "print(h2(houses_sizes))\n",
    "print(h3(houses_sizes))\n",
    "\n",
    "# use matrix product to evaluate multiple hypothesis\n",
    "\n",
    "houses_sizes = np.array([[1, 2104], [1, 1416], [1, 1534], [1, 852]])\n",
    "h = np.array([[-40, -200, -150], [0.25, 0.1, 0.4]])\n",
    "np.dot(houses_sizes, h)"
   ]
  },
  {
   "cell_type": "markdown",
   "metadata": {},
   "source": [
    "### Matrix Multiplication Properties"
   ]
  },
  {
   "cell_type": "markdown",
   "metadata": {},
   "source": [
    "Let A and B be matrices, in general:  $A * B \\neq B * A$\n",
    "\n",
    "Associative property $(A * B) * C = A * (B * C)$\n",
    "\n",
    "Identity matrix $I$ or $I_{n*n} $ , example  $I_{2*2} = \\begin{bmatrix}1 & 0 \\\\ 0 & 1 \\end{bmatrix}$\n",
    "\n",
    "$A*I = I*A$"
   ]
  },
  {
   "cell_type": "code",
   "execution_count": 28,
   "metadata": {},
   "outputs": [
    {
     "data": {
      "text/plain": [
       "array([[1., 0., 0.],\n",
       "       [0., 1., 0.],\n",
       "       [0., 0., 1.]])"
      ]
     },
     "execution_count": 28,
     "metadata": {},
     "output_type": "execute_result"
    }
   ],
   "source": [
    "np.identity(3)"
   ]
  },
  {
   "cell_type": "markdown",
   "metadata": {},
   "source": [
    "### Inverse and Transpose"
   ]
  },
  {
   "cell_type": "markdown",
   "metadata": {},
   "source": [
    "#### Inverse\n",
    "If A is m * n matrix and it has an inverse:   \n",
    "$ A * A^{-1} = A^{-1} * A = I $\n",
    "\n",
    "matrix that doesn't have an inverse are called \"singular\" or \"degenerate\""
   ]
  },
  {
   "cell_type": "code",
   "execution_count": 29,
   "metadata": {},
   "outputs": [
    {
     "name": "stdout",
     "output_type": "stream",
     "text": [
      "[[ 0.4   -0.1  ]\n",
      " [-0.05   0.075]]\n"
     ]
    },
    {
     "data": {
      "text/plain": [
       "array([[1., 0.],\n",
       "       [0., 1.]])"
      ]
     },
     "execution_count": 29,
     "metadata": {},
     "output_type": "execute_result"
    }
   ],
   "source": [
    "A = np.array([[3, 4], [2, 16]])\n",
    "A_inv = np.linalg.inv(A)\n",
    "print(A_inv)\n",
    "\n",
    "np.dot(A, A_inv)"
   ]
  },
  {
   "cell_type": "markdown",
   "metadata": {},
   "source": [
    "#### Transpose\n",
    "Let $A$ be an m x n matrix, adn let $ B = A^T$, then b is n x m and $ B_{ij} = A_{ji} $\n",
    "(Change row with columns or flip matrix over 45 degree axes)"
   ]
  },
  {
   "cell_type": "code",
   "execution_count": 30,
   "metadata": {},
   "outputs": [
    {
     "data": {
      "text/plain": [
       "array([[ 3,  2],\n",
       "       [ 4, 16]])"
      ]
     },
     "execution_count": 30,
     "metadata": {},
     "output_type": "execute_result"
    }
   ],
   "source": [
    "A.T"
   ]
  }
 ],
 "metadata": {
  "kernelspec": {
   "display_name": "Python 3",
   "language": "python",
   "name": "python3"
  },
  "language_info": {
   "codemirror_mode": {
    "name": "ipython",
    "version": 3
   },
   "file_extension": ".py",
   "mimetype": "text/x-python",
   "name": "python",
   "nbconvert_exporter": "python",
   "pygments_lexer": "ipython3",
   "version": "3.6.5"
  }
 },
 "nbformat": 4,
 "nbformat_minor": 2
}
