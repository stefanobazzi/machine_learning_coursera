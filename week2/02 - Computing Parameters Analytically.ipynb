{
 "cells": [
  {
   "cell_type": "markdown",
   "metadata": {},
   "source": [
    "### Normal Equation\n",
    "\n",
    "Normal equation: Method to solve for $\\theta$ analitically.   \n",
    "Intuition:  \n",
    "$J(\\theta) = a\\theta^2 + b\\theta + c$\n",
    "will find the minimum by solve   \n",
    "$\\alpha\\frac{\\partial }{\\partial \\theta_j}J(\\theta_0, \\theta_1, \\dots, \\theta_n)  = 0$\n",
    "\n",
    "$\\theta = (X^TX)^{-1}X^Ty$"
   ]
  },
  {
   "cell_type": "markdown",
   "metadata": {},
   "source": [
    "#### Example"
   ]
  },
  {
   "cell_type": "code",
   "execution_count": 18,
   "metadata": {},
   "outputs": [
    {
     "name": "stdout",
     "output_type": "stream",
     "text": [
      "### X ###\n",
      " [[   1 2014    5    1   45]\n",
      " [   1 1416    3    2   40]\n",
      " [   1 1534    3    2   30]\n",
      " [   1  852    2    1   36]]\n",
      "### y ###\n",
      " [[460]\n",
      " [232]\n",
      " [315]\n",
      " [178]]\n",
      "### theta ###\n",
      " [[ 2.99636719e+02]\n",
      " [-2.73181915e-01]\n",
      " [ 1.44888672e+02]\n",
      " [-1.14130859e+01]\n",
      " [-7.47497559e+00]]\n"
     ]
    }
   ],
   "source": [
    "import pandas as pd\n",
    "from numpy import dot\n",
    "from numpy.linalg import inv\n",
    "\n",
    "\n",
    "m = 4\n",
    "\n",
    "data = pd.DataFrame({\n",
    "    'x0': [1, 1, 1, 1],\n",
    "    'size': [2014, 1416, 1534, 852],\n",
    "    'num_bedrooms': [5, 3, 3, 2],\n",
    "    'num_floors': [1, 2, 2, 1],\n",
    "    'age_home': [45, 40, 30, 36],\n",
    "    'price': [460,  232, 315, 178],\n",
    "})\n",
    "X = data.as_matrix(['x0', 'size', 'num_bedrooms', 'num_floors', 'age_home'])\n",
    "y = data.as_matrix(['price'])\n",
    "print(\"### X ###\\n\", X)\n",
    "print(\"### y ###\\n\", y)\n",
    "theta = inv(dot(X.T, X)).dot(X.T).dot(y)\n",
    "print(\"### theta ###\\n\", theta)"
   ]
  },
  {
   "cell_type": "markdown",
   "metadata": {},
   "source": [
    "$m$ examples $(x^{(1)}, x^{(1)}), \\dots, (x^{(m)}, x^{(m)})$; $n$ features   \n",
    "\n",
    "$ x^{(i)} = \\begin{bmatrix}x_0^{(i)} \\\\ x_1^{(i)} \\\\ x_2^{(i)} \\\\ \\vdots \\\\ x_n^{(i)}\\end{bmatrix} \\in \\mathbb{R}^{n+1}$\n",
    "\n",
    "\n",
    "\n",
    "$ X = \\begin{bmatrix}(x^{(1)})^T \\\\ (x^{(2)})^T \\\\ (x^{(3)})^T \\\\ \\vdots \\\\ (x^{(m)})^T\\end{bmatrix} $ &nbsp;&nbsp;&nbsp;&nbsp; (first column is fill of ones)\n",
    "\n",
    "\n",
    "$\\theta = (X^TX)^{-1}X^Ty$\n",
    "\n",
    "No need feature scaling!"
   ]
  },
  {
   "cell_type": "markdown",
   "metadata": {},
   "source": [
    "$m$ trainig examples, $n$ features\n",
    "\n",
    "Gradient descent\n",
    "* need to chose $\\alpha$\n",
    "* needs may iterations\n",
    "* works wll even when $n$ is large\n",
    "\n",
    "Normal Equation\n",
    "* no need to chose $\\alpha$\n",
    "* don't need to iterate\n",
    "* need to compute $(X^TX)^{-1}$, which if the matrix is $n$ x $n$ is $O(n^3)$\n",
    "* slow if n is very large (if n about 10000 choose gradient descent)"
   ]
  },
  {
   "cell_type": "markdown",
   "metadata": {},
   "source": [
    "### Normal Equation Noninvertibility"
   ]
  },
  {
   "cell_type": "markdown",
   "metadata": {},
   "source": [
    "$\\theta = (X^TX)^{-1}X^Ty$\n",
    "\n",
    "* what if $X^TX$ is non-invetible?(singluar/degenerate)\n",
    "* ocatave: pinv(X'*X)*X'*y (can compute also if is not invertible)\n",
    "\n",
    "Common causes:\n",
    "* Redundat features (linear dependent)\n",
    "* Too many features (e.g $m \\leq n$) => delete some features of use regularization"
   ]
  },
  {
   "cell_type": "code",
   "execution_count": null,
   "metadata": {},
   "outputs": [],
   "source": []
  }
 ],
 "metadata": {
  "kernelspec": {
   "display_name": "Python 3",
   "language": "python",
   "name": "python3"
  },
  "language_info": {
   "codemirror_mode": {
    "name": "ipython",
    "version": 3
   },
   "file_extension": ".py",
   "mimetype": "text/x-python",
   "name": "python",
   "nbconvert_exporter": "python",
   "pygments_lexer": "ipython3",
   "version": "3.6.5"
  }
 },
 "nbformat": 4,
 "nbformat_minor": 2
}
