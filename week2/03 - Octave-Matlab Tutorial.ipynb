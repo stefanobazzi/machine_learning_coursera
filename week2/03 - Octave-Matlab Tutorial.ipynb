{
 "cells": [
  {
   "cell_type": "markdown",
   "metadata": {},
   "source": [
    "### Basic Operators\n",
    "\n",
    "<table>\n",
    "    <tr><td>maths</td><td> +, -, *, /, ^</td></tr>\n",
    "    <tr><td>equal</td><td>==</td></tr>\n",
    "    <tr><td>not equal</td><td>~=</td></tr>\n",
    "    <tr><td>and</td><td> &&</td></tr>\n",
    "    <tr><td>or</td><td> ||       </td></tr>\n",
    "    <tr><td>xor</td><td>  xor(1, 0) </td></tr>\n",
    "    <tr><td>change line head</td><td>PS1('>> ')</td></tr>\n",
    "    <tr><td>comment</td><td>%</td></tr>\n",
    "    <tr><td>string</td><td>'string'</td></tr>\n",
    "    <tr><td>print</td><td> disp() </td></tr>\n",
    "    <tr><td>matrix</td><td> A = [1 2; 3 4]  </td></tr>\n",
    "    <tr><td>3x1 vector </td><td>v = [1 2 3]</td></tr>\n",
    "    <tr><td>1x3 vector</td><td>v = [1; 2; 3]</td></tr>\n",
    "    <tr><td>ones matrix</td><td> ones(2, 3)</td></tr>\n",
    "    <tr><td>zeros matrix</td><td> zeros(1, 3)</td></tr>\n",
    "    <tr><td>random matrix</td><td> rand(3, 3)</td></tr>\n",
    "    <tr><td>histogram</td><td>hist(w)</td></tr>\n",
    "    <tr><td>histogram with 50 bins</td><td> hist(w, 50)</td></tr>\n",
    "    <tr><td>identity matrix</td><td> eye(3)</td></tr>\n",
    "    <tr><td>help</td><td> help cmd</td></tr>\n",
    "</table>"
   ]
  },
  {
   "cell_type": "markdown",
   "metadata": {},
   "source": [
    "### Moving Around Data\n",
    "<table>\n",
    "    <tr><td>matrix size</td><td>size()</td></tr>\n",
    "    <tr><td>matrix row size</td><td>size(w, 1)</td></tr>\n",
    "    <tr><td>matrix col size</td><td>size(w, 2)</td></tr>\n",
    "    <tr><td>vector length</td><td>length()</td></tr>\n",
    "    <tr><td>print working dir</td><td>pwd</td></tr>\n",
    "    <tr><td>list dir</td><td>ls</td></tr>\n",
    "    <tr><td>load file</td><td>load file.txt, load('file.txt')</td></tr>\n",
    "    <tr><td>variables in scope</td><td>who</td></tr>\n",
    "    <tr><td>variables in scope with details</td><td>whos</td></tr>\n",
    "    <tr><td>clear variables in scope</td><td>clear</td></tr>\n",
    "    <tr><td>clear feature</td><td>clear feature</td></tr>\n",
    "    <tr><td>save in file</td><td>save filename.ext value;</td></tr>\n",
    "    <tr><td>save in file readable</td><td>save file.txt value -ascii</td></tr>\n",
    "    <tr><td>indexing matrix first row second col</td><td> A(1, 2)</td></tr>\n",
    "    <tr><td>all first row elements</td><td> A(1, :)</td></tr>\n",
    "    <tr><td>all second col elements</td><td> A(:, 2)</td></tr>\n",
    "    <tr><td>first and third row all elements</td><td> A([1, 3], :)</td></tr>\n",
    "    <tr><td>assign second col elements</td><td> A(:, 2) = [ 3; 4; 5]</td></tr>\n",
    "    <tr><td>append col</td><td> A = [A, [ 3; 4; 5]]</td></tr>\n",
    "    <tr><td>put all matrix elements into single vector</td><td>A(:)</td></tr>\n",
    "    <tr><td>concatenate matrixs horizontally</td><td> C = [A B]</td></tr>\n",
    "    <tr><td>concatenate matrixs by vertically</td><td> C = [A; B]</td></tr>\n",
    "</table>"
   ]
  },
  {
   "cell_type": "markdown",
   "metadata": {},
   "source": [
    "### Computing on Data\n",
    "<table>\n",
    "    <tr><td>matrix prod</td><td>A * B</td></tr>\n",
    "    <tr><td>matrix element wise prod</td><td>A .* B</td></tr>\n",
    "    <tr><td>matrix element wise square</td><td> A .^ 2 </td></tr>\n",
    "    <tr><td>matrix element wise division</td><td> A ./ 2 </td></tr>\n",
    "    <tr><td>logarithm also for vecor</td><td> log(v) </td></tr>\n",
    "    <tr><td>exponential also for vecor</td><td> exp(v) </td></tr>\n",
    "    <tr><td>matrix transpose</td><td>A'</td></tr>\n",
    "    <tr><td>maximum</td><td>[value, index] = max(A)</td></tr>\n",
    "    <tr><td>find all  el in a less than 3</td><td>find(a < 3)</td></tr>\n",
    "    <tr><td>sum all el in v</td><td>sum(v)</td></tr>\n",
    "    <tr><td>sum all row in A</td><td>sum(A, 1)</td></tr>\n",
    "    <tr><td>sum all col in A</td><td>sum(A, 2)</td></tr>\n",
    "    <tr><td>mul all el in v</td><td>prod(v)</td></tr>\n",
    "    <tr><td>integer part of all el in v</td><td>floor(v)</td></tr>\n",
    "    <tr><td>round to the near int for all el in v</td><td>ceil(v)</td></tr>\n",
    "    <tr><td>matrix with same row sum and col sum</td><td>magic(3)</td></tr>\n",
    "    <tr><td>matrix inverse</td><td>pinv(A)</td></tr>\n",
    "    \n",
    "</table>"
   ]
  },
  {
   "cell_type": "markdown",
   "metadata": {},
   "source": [
    "### Plotting Data\n",
    "<table>\n",
    "    <tr><td>plot t, v = sin(t)</td><td>plot(t, v)</td></tr>\n",
    "    <tr><td>dont cancel last plot</td><td>hold on</td></tr>\n",
    "    <tr><td>xlablel</td><td>xlablel('label')</td></tr>\n",
    "    <tr><td>ylablel</td><td>ylablel('label')</td></tr>\n",
    "    <tr><td>legend</td><td>legend('plot1', 'plot2')</td></tr>\n",
    "    <tr><td>plot title</td><td>title('label')</td></tr>\n",
    "    <tr><td>save image</td><td>cd '/path'; print -dpng 'my_plot.png' </td></tr>\n",
    "    <tr><td>close plot</td><td>close</td></tr>\n",
    "    <tr><td>figure number</td><td>figure(1): plot(t, y1)</td></tr>\n",
    "    <tr><td>divide plot in mutiple graphs</td><td>subplot(1, 2, 1)</td></tr>\n",
    "    <tr><td>draw matrix with colors</td><td>imagesc(A)</td></tr>\n",
    "    <tr><td>draw matrix with colors</td><td>imagesc(A), colorbar, colormap gray;</td></tr>\n",
    "    <tr><td>multiple assignement</td><td>a=1; b=2; c=3;</td></tr>\n",
    "</table>\n"
   ]
  }
 ],
 "metadata": {
  "kernelspec": {
   "display_name": "Python 3",
   "language": "python",
   "name": "python3"
  },
  "language_info": {
   "codemirror_mode": {
    "name": "ipython",
    "version": 3
   },
   "file_extension": ".py",
   "mimetype": "text/x-python",
   "name": "python",
   "nbconvert_exporter": "python",
   "pygments_lexer": "ipython3",
   "version": "3.6.5"
  }
 },
 "nbformat": 4,
 "nbformat_minor": 2
}
