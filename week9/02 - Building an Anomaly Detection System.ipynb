{
 "cells": [
  {
   "cell_type": "markdown",
   "metadata": {},
   "source": [
    "### Developing and Evaluating an Anomaly Detection System\n",
    "\n",
    "#### The importance of real-number evaluation\n",
    "When developing a learning algorithm (choosing features, etc.) making decisions is much easier if we have a way of evaluating our learning algorithm.     \n",
    "Assume we have some labeled data, of anomalous and non anomalous examples. ($y = 0$ if normal, $y = 1$ if anomalous).\n",
    "\n",
    "\n",
    "Training set $x^{(1)}, x^{(2)}, \\dots, x^{(m)}$ assume normal examples/not anomalous)\n",
    "\n",
    "Cross validation set $(x_{cv}^{(1)}, y_{cv}^{(1)}), (x_{cv}^{(2)}, y_{cv}^{(2)}), \\dots, (x_{cv}^{(m_{cv})}, y_{cv}^{(m_{cv})})$  \n",
    "Test set $x_{test}^{(1)}, y_{test}^{(1)}), (x_{test}^{(2)}, y_{test}^{(2)}), \\dots, (x_{test}^{(m_{test})}, y_{test}^{(m_{test})})$ \n",
    "\n",
    "Example: Aircraft engines    \n",
    "10000 goog (normal) engines    \n",
    "20    flawned engines (anomalous)    \n",
    "\n",
    "Training set: 6000 good engines   \n",
    "CV: 2000 good engines ($y = 0$), 10 anomalous ($y = 1$)    \n",
    "Test: 2000 good engines ($y = 0$), 10 anomalous ($y = 1$)    \n",
    "Best to use different data for CV and Test   \n",
    "\n",
    "#### Algorithm evaluation\n",
    "\n",
    "Fit model $p(x)$ on trainig set $x^{(1)}, \\dots, x^{(m)}$    \n",
    "On a cross validation/test example $x$, predict  \n",
    "\n",
    "$y =\n",
    "\\begin{cases}\n",
    "1       & \\quad \\text{if } p(x) < \\epsilon \\quad \\text{(anomaly)}\\\\\n",
    "0       & \\quad \\text{if } p(x) \\geq \\epsilon \\quad  \\text{(normal)}\n",
    "\\end{cases}\n",
    "$\n",
    "Possible evaluation metrics:\n",
    "- true positive, false positive, false negative, true negative\n",
    "- precision recall\n",
    "- F1 score\n",
    "\n",
    "Can also use cross validation set to choose parameter $\\epsilon$."
   ]
  },
  {
   "cell_type": "markdown",
   "metadata": {},
   "source": [
    "### Anomaly Detection vs. Supervised Learning\n",
    "\n",
    "Why use anomaly detection instead of supervised learning?\n",
    "\n",
    "#### Anomaly detection\n",
    "- Very small number of positive examples ($y=1$). (0-20 is common).   \n",
    "- Large number of negative ($y=0$) examples.\n",
    "- Many different \"types\" of anomalies. Hard for any algorithm to learn from positve examples what the anomalies look like; fututre anomalies may look nothing like any of the anomalous examples we've seen so far.\n",
    "Examples:\n",
    "- fraud detection\n",
    "- manufacturing\n",
    "- monitoring machiens in data center\n",
    "\n",
    "#### Supervised learning\n",
    "- Large number of positive and negative examples.\n",
    "- Enough positive examples for algorithm to get a sense of what posistive examples are like, future positive examples likely to be similar to ones in training set.\n",
    "Examples\n",
    "- email spam classification\n",
    "- wheater prediction\n",
    "- cancer classification\n",
    "\n"
   ]
  },
  {
   "cell_type": "markdown",
   "metadata": {},
   "source": [
    "### Choosing What Features to Use\n",
    "\n",
    "Plot histogram of data e.g asymmetric distribution instead of gaussian add some transforamtion for example:\n",
    "- $x \\to log(x)$\n",
    "- $x \\to x^{0.2}$\n",
    "and plota again the histogram to make it more gaussian\n",
    "\n",
    "#### Error analysis for anomaly detection\n",
    "\n",
    "Want $p(x)$ large for normal examples $x$.  \n",
    "Want $p(x)$ small for anomalous examples $x$.  \n",
    "\n",
    "Most common problem: $p(x)$ is comparable (say, both large) for normal and anomalous examples\n",
    "\n",
    "E.g. Monitoring computer in a data center    \n",
    "Choose features tha might thake on unusually large or small values in the event of anomaly.      \n",
    "$x_1$ = memory use of computer      \n",
    "$x_2$ = number of disc access     \n",
    "$x_3$ = CPU load     \n",
    "$x_4$ = network traffic   \n",
    "\n",
    "create other features:             \n",
    "$x_5 = \\frac{\\text{CPU load}}{\\text{network traffic}} $      \n",
    "$x_6 = \\frac{(\\text{CPU load})^2}{\\text{network traffic}} $ "
   ]
  }
 ],
 "metadata": {
  "kernelspec": {
   "display_name": "Python 3",
   "language": "python",
   "name": "python3"
  },
  "language_info": {
   "codemirror_mode": {
    "name": "ipython",
    "version": 3
   },
   "file_extension": ".py",
   "mimetype": "text/x-python",
   "name": "python",
   "nbconvert_exporter": "python",
   "pygments_lexer": "ipython3",
   "version": "3.6.5"
  }
 },
 "nbformat": 4,
 "nbformat_minor": 2
}
