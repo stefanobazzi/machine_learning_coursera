{
 "cells": [
  {
   "cell_type": "markdown",
   "metadata": {},
   "source": [
    "### Vectorization Low Rank Matrix Factorization\n",
    "\n",
    "#### Collaborative filtering\n",
    "\n",
    "Predicted ratings:     \n",
    "\n",
    "$\n",
    "\\begin{bmatrix}\n",
    "(\\theta^{(1)})^T(x^{(1)}) & (\\theta^{(2)})^T(x^{(1)}) & \\dots  & (\\theta^{(n_u)})^T(x^{(1)}) \\\\\n",
    "(\\theta^{(1)})^T(x^{(2)}) & (\\theta^{(2)})^T(x^{(2)}) & \\dots  & (\\theta^{(n_u)})^T(x^{(2)}) \\\\\n",
    "\\vdots                    & \\vdots                    & \\vdots & \\vdots \\\\\n",
    "(\\theta^{(1)})^T(x^{(n_m)}) & (\\theta^{(2)})^T(x^{(n_m)}) & \\dots  & (\\theta^{(n_u)})^T(x^{(n_m)}) \\\\\n",
    "\\end{bmatrix}\n",
    "$\n",
    "\n",
    "\n",
    "$X = \\begin{bmatrix}\n",
    "- & (X^{(1)})^T & - \\\\\n",
    "- & (X^{(2)})^T & - \\\\\n",
    "- & \\vdots & - \\\\\n",
    "- & (X^{(n_m)})^T & - \\\\\n",
    "\\end{bmatrix}$\n",
    "\n",
    "$\\Theta = \\begin{bmatrix}\n",
    "- & (\\theta^{(1)})^T & - \\\\\n",
    "- & (\\theta^{(2)})^T & - \\\\\n",
    "- & \\vdots & - \\\\\n",
    "- & (\\theta^{(n_u)})^T & - \\\\\n",
    "\\end{bmatrix}\n",
    "$\n",
    "\n",
    "#### Finding related movies\n",
    "For each product $i$, we learn a feature vector $x^{(i)} \\in \\mathbb{R}^n$.    \n",
    "e.g $x_1$ = romance, $x_2$ = action, $x_3$ = comedy, ...     \n",
    "\n",
    "How to find movies $j$ related to movie $i$?   \n",
    "small $\\| x^{(i)} - x^{(j)} \\| \\to$ movie $j$ and $i$ are \"similar\"\n",
    "\n",
    "5 most similar movies to movie $i$:    \n",
    "Find the 5 movies with smallest $\\| x^{(i)} - x^{(j)} \\|$.\n"
   ]
  },
  {
   "cell_type": "markdown",
   "metadata": {},
   "source": [
    "### Implementational Detail: Mean Normalization\n",
    "\n",
    "$Y = \n",
    "\\begin{bmatrix}\n",
    "5 & 5 & 0  & 0 & ? \\\\\n",
    "5 & ? & ?  & 0 & ? \\\\\n",
    "? & 4 & 0  & ? & ? \\\\\n",
    "0 & 0 & 5  & 4 & ? \\\\\n",
    "0 & 0 & 5  & 0 & ? \\\\\n",
    "\\end{bmatrix}$\n",
    "\n",
    "Reomove mean from Y      \n",
    "$\\mu = \n",
    "\\begin{bmatrix}\n",
    "2.5 \\\\\n",
    "2.5 \\\\\n",
    "2 \\\\\n",
    "2.25 \\\\\n",
    "1.25 \\\\\n",
    "\\end{bmatrix} \\to\n",
    "Y = \n",
    "\\begin{bmatrix}\n",
    "2.5   & 2.5   & -2.5  & -2.5  & ? \\\\\n",
    "2.5   & ?     & ?     & -2.5  & ? \\\\\n",
    "?     & 2     & -2    & ?     & ? \\\\\n",
    "-2.25 & -2.25 & 2.75  & 1.75  & ? \\\\\n",
    "-1.25 & -1.25 & 3.75  & -1.25 & ? \\\\\n",
    "\\end{bmatrix}$\n",
    "\n",
    "Then learn $\\theta^{(j)}, (x^{(i)}$     \n",
    "For user $j$, on movie $i$ predict:     \n",
    "$(\\theta^{(j)})^T(x^{(i)}) + \\mu_i$     add again the mean, if a prediction as no value will be replaced by mean"
   ]
  }
 ],
 "metadata": {
  "kernelspec": {
   "display_name": "Python 3",
   "language": "python",
   "name": "python3"
  },
  "language_info": {
   "codemirror_mode": {
    "name": "ipython",
    "version": 3
   },
   "file_extension": ".py",
   "mimetype": "text/x-python",
   "name": "python",
   "nbconvert_exporter": "python",
   "pygments_lexer": "ipython3",
   "version": "3.6.5"
  }
 },
 "nbformat": 4,
 "nbformat_minor": 2
}
