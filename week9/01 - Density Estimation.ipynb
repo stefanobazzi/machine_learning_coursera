{
 "cells": [
  {
   "cell_type": "markdown",
   "metadata": {},
   "source": [
    "### Problem Motivation\n",
    "\n",
    "Given dataset {$x^{(1)}, x^{(2)}, \\dots, x^{(m)}$}\n",
    "Is $x_{test}$ anomalous?    \n",
    "- Model $p(x)$ \n",
    "- $p(x) < \\epsilon \\to$ flag anomaly\n",
    "- $p(x) \\geq \\epsilon \\to$ ok\n",
    "\n",
    "Examples   \n",
    "\n",
    "Fraud detection:   \n",
    "    $x^{(i)}$ = features of user $i$'s activiities          \n",
    "    Model $p(x)$ from data    \n",
    "    Identify unusual users by checking which have $p(x) < \\epsilon$  \n",
    "    \n",
    "Manufacturing\n",
    "\n",
    "Monitoring computers in a data center.    \n",
    "$x^{(i)}$ = features of machine $i$\n",
    "$x_1$ = memory use    \n",
    "$x_2$ = number of disk access/sec       \n",
    "$x_3$ = CPU load     \n",
    "$x_3$ = CPU load/network traffic     \n",
    "...\n",
    "\n",
    "\n"
   ]
  },
  {
   "cell_type": "markdown",
   "metadata": {},
   "source": [
    "### Gaussian distribution\n",
    "\n",
    "Say $x \\in \\mathbb{R}$, If $x$ is a distribuited Gaussian with mean$\\mu$ and variance (standard deviation) $\\sigma^2$    \n",
    "\n",
    "$x \\sim \\mathcal{N}(\\mu, \\sigma^{2})$ Normal Distribuition\n",
    "\n",
    "$p(x; \\mu,\\sigma^{2}) = \\frac{1}{\\sqrt{2\\pi}\\sigma}\\exp(-\\frac{(x-\\mu)^2}{2\\sigma^2}) $\n",
    "\n",
    "$\\mu = 3, \\sigma = 1$ centered in 3\n",
    "$\\mu = 0, \\sigma = 1$ centered in zero    \n",
    "$\\mu = 0, \\sigma = 0.5$ centered in zero, the shape is thin\n",
    "$\\mu = 0, \\sigma = 2$ centered in zero, the shape is fat\n",
    "\n",
    "\n",
    "$\\mu = \\frac{1}{m}\\sum_{i=1}^{m}x^{(i)}$    \n",
    "$\\sigma^2 = \\frac{1}{m}\\sum_{i=1}^{m}(x^{(i)} - \\mu)^2$\n"
   ]
  },
  {
   "cell_type": "markdown",
   "metadata": {},
   "source": [
    "### Algorithm\n",
    "\n",
    "Training set {$x^{(1)}, \\dots, x^{(m)}$}, each example $x \\in \\mathbb{R}^n$     \n",
    "\n",
    "\n",
    "$x_1 \\sim \\mathcal{N}(\\mu_1, \\sigma_1^{2})$   \n",
    "$x_2 \\sim \\mathcal{N}(\\mu_2, \\sigma_2^{2})$   \n",
    "$x_3 \\sim \\mathcal{N}(\\mu_3, \\sigma_3^{2})$   \n",
    "...     \n",
    "\n",
    "$p(x) = p(x_1; \\mu_1, \\sigma_1^{2})p(x_2; \\mu_2, \\sigma_2^{2})\\dots p(x_n; \\mu_n, \\sigma_n^{2})$        \n",
    "$p(x) = \\prod_{j=1}^{n}p(x_j; \\mu_j, \\sigma_j^{2})$\n",
    "\n",
    "where   \n",
    "$\\mu_j = \\frac{1}{m}\\sum_{i=1}^{m}x_j^{(i)}$    \n",
    "$\\sigma_j^2 = \\frac{1}{m}\\sum_{i=1}^{m}(x_j^{(i)} - \\mu_j)^2$\n",
    "\n",
    "#### Anomaly detection algorithm\n",
    "1. Choose features $x^{(i)}$ that you think might be indicative of anomalous examples.\n",
    "2. Fit paramters $\\mu_1, \\dots, \\mu_n, \\sigma_1^2,\\dots, \\sigma_n^2$\n",
    "    - $\\mu_j = \\frac{1}{m}\\sum_{i=1}^{m}x_j^{(i)}$ $\\to$ vectorized version $\\to \\mu = \\frac{1}{m}\\sum_{i=1}^{m}X^{(i)}$\n",
    "    - $\\sigma_j^2 = \\frac{1}{m}\\sum_{i=1}^{m}(x_j^{(i)} - \\mu_j)^2$\n",
    "3. Given new example $x$, compute $p(x)$:\n",
    "    - $p(x) = \\displaystyle\\prod_{j=1}^{n}p(x_j; \\mu_j, \\sigma_j^{2}) =\n",
    "              \\displaystyle\\prod_{j=1}^{n}\\frac{1}{\\sqrt{2\\pi}\\sigma_j}\\exp(-\\frac{(x_j-\\mu_j)^2}{2\\sigma_j^2}) $      \n",
    "    - Anomaly if $p(x) < \\epsilon $"
   ]
  }
 ],
 "metadata": {
  "kernelspec": {
   "display_name": "Python 3",
   "language": "python",
   "name": "python3"
  },
  "language_info": {
   "codemirror_mode": {
    "name": "ipython",
    "version": 3
   },
   "file_extension": ".py",
   "mimetype": "text/x-python",
   "name": "python",
   "nbconvert_exporter": "python",
   "pygments_lexer": "ipython3",
   "version": "3.6.5"
  }
 },
 "nbformat": 4,
 "nbformat_minor": 2
}
