{
 "cells": [
  {
   "cell_type": "markdown",
   "metadata": {},
   "source": [
    "### Collaborative Filtering\n",
    "\n",
    "Given $\\theta^{(1)}, \\dots, \\theta^{(n_u)}$, to learn $x^{(i)}$:    \n",
    "\n",
    "$\\displaystyle \\min_{x^{(i)}} = \\frac{1}{2} \\displaystyle \\sum_{j:r(i,j)=1}( (\\theta^{(j)})^Tx^{(i)} -y^{(i, j)} )^2 +\n",
    "\\frac{\\lambda}{2} \\displaystyle \\sum_{k=1}^{n}(x_k^{(i)})^2 $\n",
    "\n",
    "choose the feature $x^{(i)}$ that miminize for all the user $j$ that rated that movies\n",
    "\n",
    "Given $\\theta^{(1)}, \\dots, \\theta^{(n_u)}$, to learn $x^{(1)}, \\dots,x^{(n_m)}$:\n",
    "\n",
    "$\\displaystyle \\min_{x^{(1)},\\dots, x^{(n_m)}} = \n",
    "\\frac{1}{2} \\displaystyle \\sum_{i=1}^{n_m} \\sum_{j:r(i,j)=1}( (\\theta^{(j)})^Tx^{(i)} -y^{(i, j)} )^2 +\n",
    "\\frac{\\lambda}{2} \\displaystyle \\sum_{i=1}^{n_m} \\sum_{k=1}^{n}(x_k^{(i)})^2 $ \n",
    "\n",
    "\n",
    "#### Collaborative Filtering\n",
    "\n",
    "Given $x^{(1)}, \\dots,x^{(n_m)}$ can estimate $\\theta^{(1)}, \\dots, \\theta^{(n_u)}$ \n",
    "\n",
    "Given $\\theta^{(1)}, \\dots, \\theta^{(n_u)}$, can estimate $x^{(1)}, \\dots,x^{(n_m)}$\n",
    "\n",
    "Iterate over guess $\\theta$ then $x$ then $\\theta$ then $x$ then $\\theta$ then $x$ ...\n"
   ]
  },
  {
   "cell_type": "markdown",
   "metadata": {},
   "source": [
    "### Collaborative Filtering Algorithm\n",
    "\n",
    "Collaborative filetering optimization objective:\n",
    "\n",
    "Given $x^{(1)}, \\dots,x^{(n_m)}$ can estimate $\\theta^{(1)}, \\dots, \\theta^{(n_u)}$ :\n",
    "\n",
    "$\\displaystyle \\min_{\\theta^{(1)},\\dots, \\theta^{(n_u)}} = \n",
    "\\frac{1}{2} \\displaystyle \\sum_{j=1}^{n_u} \\sum_{i:r(i,j)=1}( (\\theta^{(j)})^Tx^{(i)} -y^{(i, j)} )^2 +\n",
    "\\frac{\\lambda}{2} \\displaystyle \\sum_{j=1}^{n_u} \\sum_{k=1}^{n}(\\theta_k^{(j)})^2 $\n",
    "\n",
    "Given $\\theta^{(1)}, \\dots, \\theta^{(n_u)}$, can estimate $x^{(1)}, \\dots,x^{(n_m)}$\n",
    "\n",
    "$\\displaystyle \\min_{x^{(1)},\\dots, x^{(n_m)}} = \n",
    "\\frac{1}{2} \\displaystyle \\sum_{i=1}^{n_m} \\sum_{j:r(i,j)=1}( (\\theta^{(j)})^Tx^{(i)} -y^{(i, j)} )^2 +\n",
    "\\frac{\\lambda}{2} \\displaystyle \\sum_{i=1}^{n_m} \\sum_{k=1}^{n}(x_k^{(i)})^2 $ \n",
    "\n",
    "Put together and minimize $x^{(1)}, \\dots,x^{(n_m)}$ and $\\theta^{(1)}, \\dots, \\theta^{(n_u)}$ simultaneolusly:\n",
    "\n",
    "$J(x^{(1)}, \\dots,x^{(n_m)},\\theta^{(1)},\\dots, \\theta^{(n_u)}) =\n",
    "\\frac{1}{2} \\displaystyle \\sum_{(i,j):r(i,j)=1}( (\\theta^{(j)})^Tx^{(i)} -y^{(i, j)} )^2 +\n",
    "\\frac{\\lambda}{2} \\displaystyle \\sum_{i=1}^{n_m} \\sum_{k=1}^{n}(x_k^{(i)})^2 +\n",
    "\\frac{\\lambda}{2} \\displaystyle \\sum_{j=1}^{n_u} \\sum_{k=1}^{n}(\\theta_k^{(j)})^2\n",
    "$\n",
    "\n",
    "$\\displaystyle \\min_{x^{(1)},\\dots, x^{(n_m)} {\\theta^{(1)},\\dots, \\theta^{(n_u)}}} \n",
    "J(x^{(1)}, \\dots,x^{(n_m)},\\theta^{(1)},\\dots, \\theta^{(n_u)})$\n",
    "\n",
    "#### Collaborative Filtering Algorithm\n",
    "\n",
    "1. Initalize $x^{(1)},\\dots, x^{(n_m)}, \\theta^{(1)},\\dots, \\theta^{(n_u)}$ fo small random values\n",
    "2. Minimize $J(x^{(1)}, \\dots, x^{(n_m)},\\theta^{(1)},\\dots, \\theta^{(n_u)})$ using gradient descent (or an advanced optimization algorithm). E.g. for every $ j = 1, \\dots, n_u, i  = 1, \\dots, n_m $:\n",
    "\n",
    "    $ x_k^{(i)} := x_k^{(i)} - \\alpha \\Big(\\displaystyle\\sum_{j:r(i,j)=1}( (\\theta^{(j)})^Tx^{(i)} -y^{(i, j)} )\\theta_k^{(j)} + \\lambda x_k^{(i)} \\Big)$ \n",
    "\n",
    "    $ \\theta_k^{(j)} := \\theta_k^{(j)} - \\alpha \\Big(\\displaystyle\\sum_{i:r(i,j)=1}( (\\theta^{(j)})^Tx^{(i)} -y^{(i, j)} )x_k^{(i)} + \\lambda\\theta_k^{(j)} \\Big)$ \n",
    "\n",
    "3. For a user with parameters $\\theta$ and a movie with (learned) features $x$, predict a star rating of $\\theta^Tx$\n"
   ]
  }
 ],
 "metadata": {
  "kernelspec": {
   "display_name": "Python 3",
   "language": "python",
   "name": "python3"
  },
  "language_info": {
   "codemirror_mode": {
    "name": "ipython",
    "version": 3
   },
   "file_extension": ".py",
   "mimetype": "text/x-python",
   "name": "python",
   "nbconvert_exporter": "python",
   "pygments_lexer": "ipython3",
   "version": "3.6.5"
  }
 },
 "nbformat": 4,
 "nbformat_minor": 2
}
