{
 "cells": [
  {
   "cell_type": "markdown",
   "metadata": {},
   "source": [
    "### Multivariate Gaussian Distribution\n",
    "\n",
    "$x \\in \\mathbb{R}^n$. Don't model $p(x_1), p(x_2), \\dots$, etc. separately. Model $p(x))$ all in one go.     \n",
    "Parameters: $\\mu \\in \\mathbb{R}^n, \\sigma \\in \\mathbb{R}^{n \\times n},$ (covariance matrix)\n",
    "\n",
    "Changing the parameters $\\mu$ and $\\sigma $ we can plot different shapes."
   ]
  },
  {
   "cell_type": "markdown",
   "metadata": {},
   "source": [
    "### Anomaly Detection using the Multivariate Gaussian Distribution\n",
    "\n",
    "$ p(x, \\mu, \\Sigma) = \\frac{1}{(2\\pi)^{\\frac{n}{2}}|\\Sigma|^{\\frac{1}{2}}}\\exp(-\\frac{1}{2}(x - \\mu)^T\\Sigma^{-1}(x - \\mu))$\n",
    "\n",
    "$\\mu \\in \\mathbb{R}^n, \\Sigma \\in \\mathbb{R}^{n \\times n}$\n",
    "\n",
    "Parameter fitting:   \n",
    "Given training set {$ x^{(1)}, x^{(2)}, \\dots, x^{(m)} $ }     \n",
    "\n",
    "1. fit model $p(x)$ by setting:    \n",
    "    $\\mu = \\frac{1}{m}\\displaystyle\\sum_{i=1}^{m}x^{(i)}$    \n",
    "    $\\Sigma = \\frac{1}{m}\\displaystyle\\sum_{i=1}^{m}(x^{(i)} - \\mu)(x^{(i)} - \\mu)^T$\n",
    "2. Given a new example $x$, compute      \n",
    "    $ p(x, \\mu, \\Sigma) = \\frac{1}{(2\\pi)^{\\frac{n}{2}}|\\Sigma|^{\\frac{1}{2}}}\\exp(-\\frac{1}{2}(x - \\mu)^T\\Sigma^{-1}(x - \\mu))$      \n",
    "    Flag anomaly if  $p(x) < \\epsilon$\n",
    "\n",
    "The original model:\n",
    "\n",
    "$p(x) = p(x_1; \\mu_1, \\sigma_1^{2}) \\times p(x_2; \\mu_2, \\sigma_2^{2}) \\times \\dots \\times p(x_n; \\mu_n, \\sigma_n^{2})$   \n",
    "\n",
    "Correspond to multivariate Gaussian:  \n",
    "\n",
    "$ p(x, \\mu, \\Sigma) = \\frac{1}{(2\\pi)^{\\frac{n}{2}}|\\Sigma|^{\\frac{1}{2}}}\\exp(-\\frac{1}{2}(x - \\mu)^T\\Sigma^{-1}(x - \\mu))$    \n",
    "\n",
    "where the contourns of every probability function corresponds, and so      \n",
    "\n",
    "$ \\Sigma = \n",
    "\\begin{bmatrix}\n",
    "\\sigma_1^2 & & & \\\\\n",
    "& \\sigma_2^2 & & \\\\\n",
    "& & \\ddots     & \\\\\n",
    "& & & \\sigma_n^2 \\\\\n",
    "\\end{bmatrix}\n",
    "$\n",
    "\n",
    "#### Original model\n",
    "\n",
    "- $p(x) = p(x_1; \\mu_1, \\sigma_1^{2}) \\times \\dots \\times p(x_n; \\mu_n, \\sigma_n^{2})$\n",
    "- Manually create features to capture anomalies where $x_1, x_2$ take unusual combinations of values. E.g $x_3 = \\frac{x_2}{x_1}$\n",
    "- Computationally cheaper (alternatively, scales better to large $n$)\n",
    "\n",
    "#### Multivariate Gaussian\n",
    "- $ p(x, \\mu, \\Sigma) = \\frac{1}{(2\\pi)^{\\frac{n}{2}}|\\Sigma|^{\\frac{1}{2}}}\\exp(-\\frac{1}{2}(x - \\mu)^T\\Sigma^{-1}(x - \\mu))$    \n",
    "- Automatically captures correlations between features\n",
    "- Computationally more expensive\n",
    "- Must have $m > n$ or else $\\Sigma$ is non-invertible. ($ m \\geq 10n$) If $\\Sigma$ is non-ivertible we can create redudant features to satisfy $ m > n$\n"
   ]
  }
 ],
 "metadata": {
  "kernelspec": {
   "display_name": "Python 3",
   "language": "python",
   "name": "python3"
  },
  "language_info": {
   "codemirror_mode": {
    "name": "ipython",
    "version": 3
   },
   "file_extension": ".py",
   "mimetype": "text/x-python",
   "name": "python",
   "nbconvert_exporter": "python",
   "pygments_lexer": "ipython3",
   "version": "3.6.5"
  }
 },
 "nbformat": 4,
 "nbformat_minor": 2
}
