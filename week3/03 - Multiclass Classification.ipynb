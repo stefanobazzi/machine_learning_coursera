{
 "cells": [
  {
   "cell_type": "markdown",
   "metadata": {},
   "source": [
    "### Multiclass classification: One-vs-all\n",
    "\n",
    "Eg.\n",
    "\n",
    "Email foldering: Work, Friends, Famili, Hobby   \n",
    "Medical diagrams: Not ill, Cold, Flu   \n",
    "Weather: Sunny, Cloudy, Rain, Snow\n",
    "\n",
    "\n",
    "Suppose 3 classes we divide the problem in three binary classification problems  \n",
    "\n",
    "* Class1: $h_\\theta^{(1)}(x)$\n",
    "* Class2: $h_\\theta^{(2)}(x)$\n",
    "* Class3: $h_\\theta^{(3)}(x)$\n",
    "\n",
    "\n",
    "#### One-vs-all\n",
    "Train a logisti regresssion classifier $h_\\theta^{(i)}(x)$ for each class $i$ to predict the probabilty that $ y = i $.\n",
    "\n",
    "On a new input $x$, to make a prediction, pick the class $i$ that maximizes   \n",
    "&nbsp;&nbsp;&nbsp;&nbsp;  $max$ $ h_\\theta^{(i)}(x)$\n",
    "\n",
    "\n",
    "$y \\in \\{0, 1, \\dots, n \\}$  \n",
    "$h_\\theta^{(0)}(x) = P(y = 0, x; \\theta)$  \n",
    "$h_\\theta^{(1)}(x) = P(y = 1, x; \\theta)$  \n",
    "$\\dots$  \n",
    "$h_\\theta^{(n)}(x) = P(y = n, x; \\theta)$  \n",
    "\n",
    "prediction = $max(h_\\theta^{(i)}(x))$"
   ]
  }
 ],
 "metadata": {
  "kernelspec": {
   "display_name": "Python 3",
   "language": "python",
   "name": "python3"
  },
  "language_info": {
   "codemirror_mode": {
    "name": "ipython",
    "version": 3
   },
   "file_extension": ".py",
   "mimetype": "text/x-python",
   "name": "python",
   "nbconvert_exporter": "python",
   "pygments_lexer": "ipython3",
   "version": "3.6.5"
  }
 },
 "nbformat": 4,
 "nbformat_minor": 2
}
