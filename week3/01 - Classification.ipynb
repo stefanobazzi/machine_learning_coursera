{
 "cells": [
  {
   "cell_type": "markdown",
   "metadata": {},
   "source": [
    "### Classification\n",
    "Email: Spam/ot Spam   \n",
    "Online Transaction: Fraudolent Yes/No\n",
    "Tumor: Malignant/enign\n",
    "\n",
    "$y \\in {0, 1}$ &nbsp;&nbsp;&nbsp;&nbsp;\n",
    "\n",
    "0: Negative Class   \n",
    "1: Positive Class\n",
    "\n",
    "$0, 1, 2, ...} :=$  muliticlass classification\n",
    "\n",
    "ex Threshold classifier:\n",
    "\n",
    "if $h_\\theta(x) \\geq 0.5$ predict $y = 1$   \n",
    "if $h_\\theta(x) \\leq 0.5$ predict $y = 0$   \n",
    "\n",
    "The key is to find the right threshold\n",
    "\n",
    "Classification y can be 0 or 1 but $h_\\theta(x)$ can be $ < 0$ or $>1$\n",
    "\n",
    "\n",
    "Logistic Regression: $0 \\leq h_\\theta(x) \\leq 1$"
   ]
  },
  {
   "cell_type": "markdown",
   "metadata": {},
   "source": [
    "### Hypothesis Representation\n",
    "\n",
    "Want $0 \\leq h_\\theta(x) \\leq 1$\n",
    "\n",
    "$ h_\\theta(x) = g(\\theta^Tx)$\n",
    "\n",
    "$g(z) = \\frac{1}{1 +e^{-z}}$\n",
    "\n",
    "$h_\\theta(x) = \\frac{1}{1 +e^{-\\theta^Tx}}$\n",
    "\n",
    "#### Interpretation of Hyposthesis Output\n",
    "\n",
    "$ h_\\theta(x) $ = estimated probability y = 1 on input x\n",
    "\n",
    "$ h_\\theta(x) = P(y = 1 |x ; \\theta)$ probability that y = 1 given x, parametrized by theta\n",
    "\n",
    "$P(y = 0 |x ; \\theta) + P(y = 1 |x ; \\theta) = 1$   \n",
    "$P(y = 0 |x ; \\theta) = 1 - P(y = 1 |x ; \\theta)$   "
   ]
  },
  {
   "cell_type": "markdown",
   "metadata": {},
   "source": [
    "### Decision Boundary\n",
    "\n",
    "$ h_\\theta(x) = g(\\theta^Tx)$\n",
    "\n",
    "$g(z) = \\frac{1}{1 +e^{-z}}$\n",
    "\n",
    "suppose\n",
    "* predict $y=1$ if $ h_\\theta(x) \\geq 0.5$\n",
    "* predict $y=0$ if $ h_\\theta(x) < 0.5$\n",
    "\n",
    "$g(0) = 0.5 \\Rightarrow $ when $z = 0 $ so when $ z = \\theta^Tx \\geq 0 \\Rightarrow h_\\theta(z) = g(\\theta^Tx) \\geq 0.5$ $\n",
    "\n",
    "\n",
    "Example\n",
    "\n",
    "$ h_\\theta(x) = g(\\theta_o + \\theta_1x_1 + \\theta_2x_2)$\n",
    "\n",
    "Predict $y = 1 $ if $-3 + x_1 +x_2 \\geq 0 \\Rightarrow  x_1 +x_2 \\geq 3$\n",
    "\n",
    "$x_1 +x_2 = 3$ correspoonds to $ h_\\theta(x) = 0.5 $\n",
    "\n",
    "\n",
    "Example:\n",
    "\n",
    "$ \\theta = \\begin{bmatrix} 5 \\\\ -1 \\\\ 0 \\end{bmatrix}$\n",
    "\n",
    "$y = 1$ &nbsp;&nbsp;&nbsp;&nbsp; if &nbsp;&nbsp;&nbsp;&nbsp; $5 + (-1)x_1 + 0x_2 \\geq 0 $ &nbsp;&nbsp;&nbsp;&nbsp; $ \\Rightarrow 5 - x_1 \\geq 0 $ &nbsp;&nbsp;&nbsp;&nbsp; $ \\Rightarrow -x_1 \\geq -5 $ &nbsp;&nbsp;&nbsp;&nbsp; $ \\Rightarrow x_1 \\leq 5$\n",
    "\n",
    "#### Non-linear decision boundaries\n",
    "\n",
    "ex:  $ h_\\theta(x) = g(\\theta_o + \\theta_1x_1 + \\theta_2x_2 + \\theta_3x_1^2 + \\theta_4x_2^2)$\n",
    "\n",
    "put $\\theta_0 = -1,  \\theta_1  = \\theta_2 = 0, \\theta_3  = \\theta_4 = 1$ \n",
    "\n",
    "predict $y=1$ if $ -1 + x_1^2 + x_2^2 \\Rightarrow $ circle boundaries\n",
    "\n",
    "In general useing polynomial hypothesis we can get really complex shapes like ellipsys or more complex shapes.\n",
    "\n",
    "$ h_\\theta(x) = g(\\theta_o + \\theta_1x_1 + \\theta_2x_2 + \\theta_3x_1^2 + \\theta_4x_1^2x_2 + \\theta_5x_1^2x_2^2 + \\theta_6x_1^3x_2 + \\dots)$"
   ]
  }
 ],
 "metadata": {
  "kernelspec": {
   "display_name": "Python 3",
   "language": "python",
   "name": "python3"
  },
  "language_info": {
   "codemirror_mode": {
    "name": "ipython",
    "version": 3
   },
   "file_extension": ".py",
   "mimetype": "text/x-python",
   "name": "python",
   "nbconvert_exporter": "python",
   "pygments_lexer": "ipython3",
   "version": "3.6.5"
  }
 },
 "nbformat": 4,
 "nbformat_minor": 2
}
