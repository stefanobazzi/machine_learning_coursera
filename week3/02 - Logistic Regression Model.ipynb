{
 "cells": [
  {
   "cell_type": "markdown",
   "metadata": {},
   "source": [
    "### Cost Function\n",
    "\n",
    "Trainig set: $ \\{(x^{(1)}, y^{(1)}), (x^{(2)}, y^{(2)}), \\dots, (x^{(m)}, y^{(m)})\\} $\n",
    "\n",
    "$m$ examples &nbsp;&nbsp;&nbsp;&nbsp;&nbsp;&nbsp;&nbsp;&nbsp;\n",
    "$x \\in \\begin{bamtrix} x_0 \\\\ x_1 \\\\ \\vdots \\\\x_n \\end{bamtrix} $ &nbsp;&nbsp;&nbsp;&nbsp;&nbsp;&nbsp;&nbsp;&nbsp;\n",
    "$ x_0 = 1, y \\in \\{0,1\\}$\n",
    "\n",
    "$h_\\theta(x) = \\frac{1}{1 +e^{-\\theta^Tx}}$\n",
    "\n",
    "How to choose parmeters $\\theta$?\n",
    "\n",
    "$h_\\theta(x) = \\frac{1}{1 +e^{-\\theta^Tx}}$\n",
    "\n",
    "$ J(\\theta) = \\frac{1}{2m}\\sum_{i=0}^{m}(h_\\theta(x^{(i)}) - y^{(i)})^2$\n",
    "\n",
    "this function with the logistic function is not convex! the mean square error with logistic function si wavy causing maany local optima.  \n",
    "\n",
    "#### Logistic regression cost function\n",
    "\n",
    "$\\text{Cost}(h_\\theta(x), y) = \n",
    "\\begin{cases}\n",
    "-\\log(h_\\theta(x)) & \\text{if } y = 1 \\\\\n",
    "-\\log(1 - h_\\theta(x)) & \\text{if } y = 0 \\\\\n",
    "\\end{cases}\n",
    "$\n",
    "\n"
   ]
  },
  {
   "cell_type": "markdown",
   "metadata": {},
   "source": [
    "### Simplified Cost Function adn Gradient Descent\n",
    "\n"
   ]
  },
  {
   "cell_type": "code",
   "execution_count": null,
   "metadata": {},
   "outputs": [],
   "source": []
  }
 ],
 "metadata": {
  "kernelspec": {
   "display_name": "Python 3",
   "language": "python",
   "name": "python3"
  },
  "language_info": {
   "codemirror_mode": {
    "name": "ipython",
    "version": 3
   },
   "file_extension": ".py",
   "mimetype": "text/x-python",
   "name": "python",
   "nbconvert_exporter": "python",
   "pygments_lexer": "ipython3",
   "version": "3.6.5"
  }
 },
 "nbformat": 4,
 "nbformat_minor": 2
}
