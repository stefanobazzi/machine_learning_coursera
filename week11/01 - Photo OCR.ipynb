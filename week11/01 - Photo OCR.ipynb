{
 "cells": [
  {
   "cell_type": "markdown",
   "metadata": {},
   "source": [
    "### Problem Description and Pipeline\n",
    "\n",
    "E.g find the text inside image \n",
    "\n",
    "\n",
    "#### Photo OCR pipeline\n",
    "\n",
    "1. Text detection (find text regions)\n",
    "2. Character segmentation (split words in characters)\n",
    "3. Character classification (recognize cahracter)\n",
    "\n",
    "pipeline:\n",
    "\n",
    "Image -> Text detection -> Character segmentation -> Character classification\n",
    "\n",
    "The performance of the final result depends on the performance of the single element."
   ]
  },
  {
   "cell_type": "markdown",
   "metadata": {},
   "source": [
    "### Sliding Windows\n",
    "\n",
    "Pedestrian detection\n",
    "Supervised learnig: take some sub-images with examples of pedestrian and non pedestrian   \n",
    "take a window (rectangle space of the image) and move it on the image.\n",
    "\n",
    "Text detection\n",
    "Positive exmples with some chars and negative examples with non-chars.     \n",
    "Running the algoritm to detect text we get some regions with characters, the next setp is to \"expand\" this regions, make it a little bit bigger\n",
    "\n",
    "1D sliding window for character segmentation, positive examples will contain the space beetween two chars, negative exampels char only or space only. Sliding over the word, in every place beetween two characters split the word. "
   ]
  },
  {
   "cell_type": "markdown",
   "metadata": {},
   "source": [
    "### Getting Lots of Data and Artificial Data\n",
    "\n",
    "Synthetic data: e.g create new dadta from scratch, for  instance for chars take fonts and put some random in the background, or take a char and apply some distortions over the image.\n",
    "\n",
    "E.g speech recognition: take an audio track and put some noise in background, eg audio on bad cellphone connection, or with some machinery in the background.\n",
    "\n",
    "The distortion introduced depends on the type of data, e.g noise bakcground for audio, brigthness or size distortion for character.\n",
    "\n",
    "#### Discussion on getting more data\n",
    "\n",
    "1. Make sure you have a low bias classifier before expandig the effort. (Plot learning curves). E.g keep increasing the number of features/number of hidden units in neural netowrk until you have a low bias classifier,\n",
    "2. \"How much work would it be to get 10x as much data as we currently have?\"\n",
    "    - Artificial data synthesis\n",
    "    - Collect/label it yourself\n",
    "    - \"Crowd source\" (E.g Amazon Mechanical Turk)"
   ]
  },
  {
   "cell_type": "markdown",
   "metadata": {},
   "source": [
    "### Ceiling Analysis: What Part of the Pipeline to Work on Next\n",
    "\n",
    "Estimating the errors due to each component (ceiling analysis):   \n",
    "Image -> Text detection -> Character segmentation -> Character recognition\n",
    "\n",
    "What part of the pipeline should sou spend the most time trying to improve?\n",
    "\n",
    "Example:    \n",
    "At each step give the correct answer as input step in order to simulate a system which gives 100% accurancy, so starting from the initial accurancy we get this improvments:   \n",
    "Overall system: 72% accurancy     \n",
    "Text detection: 89% accurancy      \n",
    "Character segmentation: 90% accurancy       \n",
    "Character recognition: 100% accurancy      \n",
    "\n",
    "17% improvement in text detection    \n",
    "1% improvement in character segmentation     \n",
    "10% improvement in character recognition    \n",
    "\n",
    "text detection and character recongition need more improvements\n",
    "\n",
    "Another ceiling analysis example, face recongintion from image:    \n",
    "\n",
    "Camera image -> Preprocess (remove background)-> Face detection     \n",
    "&nbsp;&nbsp;&nbsp;| Eyes segmentation  &nbsp;&nbsp;|     \n",
    "->| Nose segmentation  &nbsp;&nbsp;|->     \n",
    "&nbsp;&nbsp;&nbsp;| Mouth segmentation |    \n",
    "-> Logistic regression -> Label\n",
    "\n",
    "\n",
    "Overall system: 85% accurancy     \n",
    "Preprocess: 85.1% accurancy     \n",
    "Face detection: 91% accurancy     \n",
    "Eyes segmentation: 95% accurancy     \n",
    "Nose segmentation: 96% accurancy     \n",
    "Mouth segmentation: 97% accurancy     \n",
    "Logistic regression: 100% accurancy     \n"
   ]
  }
 ],
 "metadata": {
  "kernelspec": {
   "display_name": "Python 3",
   "language": "python",
   "name": "python3"
  },
  "language_info": {
   "codemirror_mode": {
    "name": "ipython",
    "version": 3
   },
   "file_extension": ".py",
   "mimetype": "text/x-python",
   "name": "python",
   "nbconvert_exporter": "python",
   "pygments_lexer": "ipython3",
   "version": "3.6.5"
  }
 },
 "nbformat": 4,
 "nbformat_minor": 2
}
