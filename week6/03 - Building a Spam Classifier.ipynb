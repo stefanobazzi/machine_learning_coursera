{
 "cells": [
  {
   "cell_type": "markdown",
   "metadata": {},
   "source": [
    "### Prioritizing What to Work on\n",
    "\n",
    "Supervised learning   \n",
    "$x$ = features of email   \n",
    "$y$ = spam(1) or not spam(0)\n",
    "Features $x$ choose 100 word indicative of spam/not spam, each word will be a vector of size 100 as:\n",
    "$\n",
    "x_j=\n",
    "\\begin{cases}\n",
    "    1       & \\quad \\text{if word } j \\text{ appears in email}\\\\\n",
    "    0       & \\quad \\text{otherwise }\n",
    "\\end{cases}\n",
    "$\n",
    "\n",
    "How spend time to make a spam classifier with low error?\n",
    "\n",
    "- Collect a lots of data\n",
    "- Develop sophisticated features based on email routing information(from email header)\n",
    "- Develop sophisticated features for message body(from email header), e.g should \"discount\" or \"discounts\" be treated as the same word?How about \"deal\" and \"Dealer\"?Features about punctuation?\n",
    "- Develop sophisticated algorithm to detect misspellings (e.g. med1cine, w4tches)"
   ]
  },
  {
   "cell_type": "markdown",
   "metadata": {},
   "source": [
    "### Error Analysis\n",
    "\n",
    "#### Recommended approach\n",
    "- Start with simple algorithm that you can implement quickly. Implementi ti and test it on you cross validation data.\n",
    "- Plot learning curves to decide if more data, more features, etc. are likely to help.\n",
    "- Error analysis: Manually examine the examples (in cross validation set) that your algorithm made errors on. See if you spot any systematic trend in what type of examples it is making error on.\n",
    "\n",
    "Example\n",
    "\n",
    "mvc = 500 examples in cross validation set\n",
    "Algorithm misclassifies 100 emails.   \n",
    "Manually examine the 100 errors and categorize then based on\n",
    "1. What type of email is\n",
    "2. What cues(features) you think have helped the algoritm classify them correctly.\n",
    "\n",
    "Pharma: 12   \n",
    "Replica/fake: 4   \n",
    "Steal/password: 53   \n",
    "Other: 31   \n",
    "Deliberate misspellings: 5    \n",
    "Unusual email routing: 16    \n",
    "Unusuak (spamming) punctuation: 32   \n",
    "\n",
    "\n",
    "#### The importance of numerical evaluation\n",
    "\n",
    "Should discount/discounts/discounting be treated as the sam word?   \n",
    "Can use \"stamming\" software   \n",
    "\n",
    "Error analysis may not be helpful for deciding if this il likely to improve performance. Only solution is to try and see if it works. Need a numerical evaluation (e.g cross validation error) of algorithm's permformance with and without stemming. \n",
    "e.g.\n",
    "- Without stemming 5%, With stemming 3%  \n",
    "- Distinguish upper vs. lower case (Mom/mom): 3.2 %\n"
   ]
  }
 ],
 "metadata": {
  "kernelspec": {
   "display_name": "Python 3",
   "language": "python",
   "name": "python3"
  },
  "language_info": {
   "codemirror_mode": {
    "name": "ipython",
    "version": 3
   },
   "file_extension": ".py",
   "mimetype": "text/x-python",
   "name": "python",
   "nbconvert_exporter": "python",
   "pygments_lexer": "ipython3",
   "version": "3.6.5"
  }
 },
 "nbformat": 4,
 "nbformat_minor": 2
}
