{
 "cells": [
  {
   "cell_type": "markdown",
   "metadata": {},
   "source": [
    "### Debugging What to Try Next\n",
    "\n",
    "Suppose implemented a linear regression to predict housing prices, and when using the model for prediction you find large errors. What to do next?\n",
    "- Get more training examples\n",
    "- Try a smaller sets of features\n",
    "- Try getting additional features\n",
    "- Try adding polynomial features\n",
    "- Try decreasing $\\lambda$\n",
    "- Try increasing $\\lambda$\n",
    "\n",
    "#### Machine learning diagnostic\n",
    "Diagnostic: test to ran to gain what is/isn't working with a learning algorithm and gain guidance as to how best to improve performance.\n",
    "\n",
    "Diagnostic can take time to implement but doing so can be a very good use of you time."
   ]
  },
  {
   "cell_type": "markdown",
   "metadata": {},
   "source": [
    "### Evaluate a Hypothesis\n",
    "\n",
    "Overfit -> fail to generealize to new examples not in training set\n",
    "If the number of the features is too large is difficult to plot the data to understand the problem(e.g overfitting)\n",
    "\n",
    "Split the dataset int Training set and Test set eg. trainign 70% and test 30%\n",
    "\n",
    "Traninig set: $(x^{(1)}, y^{(1)}), (x^{(2)}, y^{(2)}), \\dots, (x^{(m)}, y^{(m)}))$    \n",
    "Test set $(x_{test}^{(1)}, y_{test}^{(1)}), (x_{test}^{(2)}, y_{test}^{(2)}), \\dots, (x_{test}^{(m_{test})}, y_{test}^{(m_{test})}))$ \n",
    "\n",
    "#### Training/testing procedure for linear regression\n",
    "\n",
    "- Learn parameter $\\theta$ from trainig data (minimizinf training error $J(\\theta)$   \n",
    "- Compute test set error    \n",
    "\n",
    "$ J_{test}(\\theta) =  \n",
    "-\\frac{1}{m_{test}}[\\sum_{i=0}^{m_{test}}y_{test}^{(i)}\\log(h_\\theta(x_{test}^{(i)})) + (1 - y_{test}^{(i)})\\log(1 - h_\\theta(x_{test}^{(i)}))]\n",
    "$\n",
    "\n",
    "- Misclassificatoin error (0/1 misclassification error):\n",
    "\n",
    "$\n",
    "err(h_{\\theta}(x), y) =\n",
    "  \\begin{cases}\n",
    "    1       & \\quad \\text{if } h_{\\theta}(x) \\geq 0.5, y=0 \\text{ or if } h_{\\theta}(x) < 0.5, y=1\\\\\n",
    "    0       & \\quad \\text{otherwise }\n",
    "  \\end{cases}\n",
    "$\n",
    "\n",
    "$ \\text{Test error} = \\frac{1}{m_{test}} \\sum_{i=0}^{m_{test}}err(h_{\\theta}(x_{test}^{(i)}), y^{(i)})$"
   ]
  },
  {
   "cell_type": "markdown",
   "metadata": {},
   "source": [
    "### Model Selection and Train/Validation/Test Sets\n",
    "\n",
    "Once the model is trained the error on traing set is lower than real error.\n",
    "\n",
    "#### Model selection\n",
    "\n",
    "d = degree of polynomial\n",
    "\n",
    "- 1 $ h_{\\theta}(x)  = \\theta_0 + \\theta_1x $ d = 1 \n",
    "- 2 $ h_{\\theta}(x)  = \\theta_0 + \\theta_1x + \\theta_2x^{(2)} $ d = 2 \n",
    "- 3 $ h_{\\theta}(x)  = \\theta_0 + \\theta_1x + \\theta_2x^{(2)} + \\theta_3x^{(3)} $ d = 3     \n",
    " $\\vdots$\n",
    "- 10 $ h_{\\theta}(x)  = \\theta_0 + \\theta_1x + \\theta_2x^{(2)} + \\dots + \\theta_10x^{(10)} $ d = 2\n",
    "\n",
    "Choose the better degree\n",
    "\n",
    "#### Evaluating your hypothesis\n",
    "\n",
    "Divide the dataset in Trainig set, Cross Validation Set and Test Set\n",
    "\n",
    "#### Train/validation/test error\n",
    "\n",
    "We can now calculate three separate error values for the three different sets using the following method:\n",
    "\n",
    "1. Optimize the parameters in Θ using the training set for each polynomial degree.\n",
    "2. Find the polynomial degree d with the least error using the cross validation set.\n",
    "3. Estimate the generalization error using the test set with $J_{test}(\\Theta^{(d)})$, (d = theta from polynomial with lower error);\n",
    "\n",
    "This way, the degree of the polynomial d has not been trained using the test set.\n"
   ]
  },
  {
   "cell_type": "code",
   "execution_count": null,
   "metadata": {},
   "outputs": [],
   "source": []
  }
 ],
 "metadata": {
  "kernelspec": {
   "display_name": "Python 3",
   "language": "python",
   "name": "python3"
  },
  "language_info": {
   "codemirror_mode": {
    "name": "ipython",
    "version": 3
   },
   "file_extension": ".py",
   "mimetype": "text/x-python",
   "name": "python",
   "nbconvert_exporter": "python",
   "pygments_lexer": "ipython3",
   "version": "3.6.5"
  }
 },
 "nbformat": 4,
 "nbformat_minor": 2
}
