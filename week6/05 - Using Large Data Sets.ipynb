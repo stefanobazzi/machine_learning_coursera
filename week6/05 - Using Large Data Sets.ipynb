{
 "cells": [
  {
   "cell_type": "markdown",
   "metadata": {},
   "source": [
    "### Data For Machine Learning\n",
    "\n",
    "E.g classify beetween confusable words {to, two, too}, {then, than}\n",
    "\n",
    "For breakfast i ate ... eggs\n",
    "\n",
    "Algorithms:\n",
    "- Perceptron (Logistic Regression)\n",
    "- Winnow \n",
    "- Memory-based\n",
    "- Naive Bayes \n",
    "\n",
    "It's not who has the best algotithm that wins, it's woh has the most data\n",
    "\n",
    "\n",
    "#### Large data rationale\n",
    "Assume feature $x \\in \\mathbb{R^{n+1}}$ has suffiecient information to predict $y$ accurately.\n",
    "\n",
    "Example For breakfast i ate ... eggs -> two     \n",
    "Counterexample: Predict housing price from only size ($\\text{feet}^2$) and no other features\n",
    "\n",
    "useful text: Given the same information to an human, can confidently predict $y$?\n",
    "\n",
    "Use a learning algorithm with many paramters (e.g Logistic regression/liner regression with many feauters; neural network with many hidden units).\n",
    "-> low bias algorithm -> $J_{train}(\\theta)$ will be small\n",
    "\n",
    "use avery large trainig set (unlikely to overfit) -> low variance\n",
    "$J_{train}(\\theta) \\approx J_{test}(\\theta)$\n"
   ]
  }
 ],
 "metadata": {
  "kernelspec": {
   "display_name": "Python 3",
   "language": "python",
   "name": "python3"
  },
  "language_info": {
   "codemirror_mode": {
    "name": "ipython",
    "version": 3
   },
   "file_extension": ".py",
   "mimetype": "text/x-python",
   "name": "python",
   "nbconvert_exporter": "python",
   "pygments_lexer": "ipython3",
   "version": "3.6.5"
  }
 },
 "nbformat": 4,
 "nbformat_minor": 2
}
