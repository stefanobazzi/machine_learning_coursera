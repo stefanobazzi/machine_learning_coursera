{
 "cells": [
  {
   "cell_type": "markdown",
   "metadata": {},
   "source": [
    "### Handling Skewed Data\n",
    "\n",
    "#### Cancer classification example\n",
    "Train logistic regression model $y = 1$ if cancer $y = 0$. Find that you got 1% error on test, 99% correct diagnoses.\n",
    "\n",
    "\n",
    "#### Precision/Recall\n",
    "&nbsp;&nbsp;&nbsp;&nbsp;&nbsp;&nbsp;&nbsp;&nbsp;&nbsp;&nbsp;&nbsp;&nbsp;&nbsp;&nbsp;&nbsp;&nbsp;&nbsp;&nbsp;&nbsp;&nbsp;&nbsp;&nbsp;&nbsp;&nbsp;&nbsp;&nbsp;&nbsp;&nbsp;&nbsp;&nbsp;&nbsp;&nbsp; Actual class     \n",
    "Predict class $  \n",
    "\\begin{array}{c|c|c}\n",
    "    & 1                    & 0                     \\\\\n",
    "  \\hline\n",
    "  1 & \\text{True positive} & \\text{False positive} \\\\ \n",
    "  \\hline\n",
    "  0 & \\text{False negative} & \\text{True negative} \\\\ \n",
    " \\end{array}\n",
    "$\n",
    "\n",
    "##### Precision  \n",
    "(Of all patients where we predicted $y = 1$, what fraction actually has cancer?)   \n",
    "\n",
    "$\\frac{\\text{True positive}}{\\text{#predict positive}} = \\frac{\\text{True positive}}{\\text{True positive} + \\text{False positive}} $\n",
    "\n",
    "##### Recall\n",
    "(Of all patients that actually have concer, what fraction did we correctly detect as having cancer?)\n",
    "\n",
    "$\\frac{\\text{True positive}}{\\text{#actual positive}} = \\frac{\\text{True positive}}{\\text{True positive} + \\text{False negative}} $\n",
    "\n"
   ]
  },
  {
   "cell_type": "markdown",
   "metadata": {},
   "source": [
    "### Trading Off Precision and Recall\n",
    "\n",
    "$\\text{Precision} = \\frac{\\text{True positive}}{\\text{no. of predict positive}}$\n",
    "\n",
    "$\\text{Recall} = \\frac{\\text{True positive}}{\\text{no. of actual positive}}$\n",
    "\n",
    "Example:    \n",
    "Logistic regression: $0 \\leq h_{\\theta}(x) \\leq 1$        \n",
    "Predict 1 if $ h_{\\theta}(x) \\geq 0.5$        \n",
    "Predict 0 if $ h_{\\theta}(x) < 0.5$    \n",
    "\n",
    "Suppose we want to predict $y = 1$ (cancer) only i very confident\n",
    "\n",
    "\n",
    "Suppose    \n",
    "Predict 1 if $ h_{\\theta}(x) \\geq 0.7$        \n",
    "Predict 0 if $ h_{\\theta}(x) < 0.7$    \n",
    "\n",
    "-> Higher precision, lower recall\n",
    "\n",
    "Suppose we want to avoid missing too many causes of cancer (avoid false negatives), we can choose a lower threshold (e.g 0.3) and we get   \n",
    "-> High recall, lower perciosns\n",
    "\n",
    "Precision and recall are inverse proportional\n",
    "\n",
    "#### F1 Score (F score)\n",
    "\n",
    "How to comapre precision/recall numbers?\n",
    "\n",
    "Average: $\\frac{P + R}{2}$ is not a good inidcator\n",
    "\n",
    "F1 Score: $2\\frac{PR}{P + R}$\n",
    "\n",
    "$ P = 0 $ or $ R = 0 $ -> $ F_{score} = 0$       \n",
    "$ P = 1 $ or $ R = 1 $ -> $ F_{score} = 1$"
   ]
  }
 ],
 "metadata": {
  "kernelspec": {
   "display_name": "Python 3",
   "language": "python",
   "name": "python3"
  },
  "language_info": {
   "codemirror_mode": {
    "name": "ipython",
    "version": 3
   },
   "file_extension": ".py",
   "mimetype": "text/x-python",
   "name": "python",
   "nbconvert_exporter": "python",
   "pygments_lexer": "ipython3",
   "version": "3.6.5"
  }
 },
 "nbformat": 4,
 "nbformat_minor": 2
}
