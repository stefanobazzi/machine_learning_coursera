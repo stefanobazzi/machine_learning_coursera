{
 "cells": [
  {
   "cell_type": "markdown",
   "metadata": {},
   "source": [
    "### Model Reresentation\n",
    "\n",
    "Neouron = recieve some values a input adn give one value as output\n",
    "\n",
    "#### Neuron model: Logistic unit\n",
    "Some inputs e.g $ x1, x2, x3$ and gives one output $h_\\theta(x) = \\frac{1}{1 +e^{-\\theta^Tx}}$\n",
    "\n",
    "Sigmoid = activation function   \n",
    "weights = theta vector(parameters)   \n",
    "\n",
    "layer 1 = input layer, bias term neuron optional  \n",
    "layer 2 ... = hidden layer   \n",
    "layer n = output layer    \n",
    "\n",
    "$a_i^{(j)} = $ activation of unit i in layer j  \n",
    "$\\Theta^{(j)}$ = matrix of weights controlling function mapping from layer j to layer j+1\n",
    "\n",
    "e.g one hidden layer\n",
    "$\\begin{bmatrix} x_0 \\\\ x_1 \\\\ x_2 \\\\ x_3 \\end{bmatrix} \\rightarrow \\begin{bmatrix} a_1{(2)} \\\\ a_2{(2)} \\\\  a_3{(3)} \\end{bmatrix}  \\rightarrow h_\\Theta(x)$\n",
    "\n",
    "$a_1^{(2)} = g(\\Theta_{10}^{(1)}x_0 + \\Theta_{11}^{(1)}x_1 + \\Theta_{12}^{(1)}x_2 + \\Theta_{13}^{(1)}x_3) $\n",
    "$a_2^{(2)} = g(\\Theta_{20}^{(1)}x_0 + \\Theta_{21}^{(1)}x_1 + \\Theta_{22}^{(1)}x_2 + \\Theta_{23}^{(1)}x_3) $\n",
    "$a_3^{(2)} = g(\\Theta_{30}^{(1)}x_0 + \\Theta_{31}^{(1)}x_1 + \\Theta_{32}^{(1)}x_2 + \\Theta_{33}^{(1)}x_3) $\n",
    "\n",
    "$h_\\Theta(x) = g(\\Theta_{10}^{(2)}a_0^{(2)} + \\Theta_{11}^{(2)}a_1^{(2)} + \\Theta_{12}^{(2)}a_2^{(2)} + \\Theta_{13}^{(2)}a_3^{(2)}) $"
   ]
  },
  {
   "cell_type": "code",
   "execution_count": null,
   "metadata": {},
   "outputs": [],
   "source": []
  }
 ],
 "metadata": {
  "kernelspec": {
   "display_name": "Python 3",
   "language": "python",
   "name": "python3"
  },
  "language_info": {
   "codemirror_mode": {
    "name": "ipython",
    "version": 3
   },
   "file_extension": ".py",
   "mimetype": "text/x-python",
   "name": "python",
   "nbconvert_exporter": "python",
   "pygments_lexer": "ipython3",
   "version": "3.6.5"
  }
 },
 "nbformat": 4,
 "nbformat_minor": 2
}
