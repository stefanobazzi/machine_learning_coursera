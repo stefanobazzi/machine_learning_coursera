{
 "cells": [
  {
   "cell_type": "markdown",
   "metadata": {},
   "source": [
    "### Non-linear Classification\n",
    "\n",
    "In case of non linear classification, using linear regression with high order polynomial with a large dataset we can have a lot of features and can be computational onerous.\n",
    "\n",
    "#### Neural Network and the Brain\n",
    "\n",
    "Origin: Algotrithm to mimic the brain. Widely used in 80 an early 90, popularity diminidhed in late 90s.\n",
    "\n"
   ]
  }
 ],
 "metadata": {
  "kernelspec": {
   "display_name": "Python 3",
   "language": "python",
   "name": "python3"
  },
  "language_info": {
   "codemirror_mode": {
    "name": "ipython",
    "version": 3
   },
   "file_extension": ".py",
   "mimetype": "text/x-python",
   "name": "python",
   "nbconvert_exporter": "python",
   "pygments_lexer": "ipython3",
   "version": "3.6.5"
  }
 },
 "nbformat": 4,
 "nbformat_minor": 2
}
